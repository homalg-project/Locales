{
 "cells": [
  {
   "cell_type": "code",
   "execution_count": 1,
   "metadata": {},
   "outputs": [
    {
     "name": "stdout",
     "output_type": "stream",
     "text": [
      "CapAndHomalg v\u001b[32m1.5.8\u001b[39m\n",
      "Imported OSCAR's components GAP and Singular_jll\n",
      "Type: ?CapAndHomalg for more information\n"
     ]
    }
   ],
   "source": [
    "using CapAndHomalg"
   ]
  },
  {
   "cell_type": "code",
   "execution_count": 2,
   "metadata": {},
   "outputs": [],
   "source": [
    "LoadPackage( \"FreydCategoriesForCAP\" )"
   ]
  },
  {
   "cell_type": "code",
   "execution_count": 3,
   "metadata": {},
   "outputs": [],
   "source": [
    "LoadPackage( \"SubcategoriesForCAP\" )"
   ]
  },
  {
   "cell_type": "code",
   "execution_count": 4,
   "metadata": {},
   "outputs": [],
   "source": [
    "LoadPackage( \"Locales\" )"
   ]
  },
  {
   "cell_type": "code",
   "execution_count": 5,
   "metadata": {},
   "outputs": [],
   "source": [
    "LoadPackage( \"LazyCategories\" )"
   ]
  },
  {
   "cell_type": "code",
   "execution_count": 6,
   "metadata": {},
   "outputs": [
    {
     "data": {
      "text/plain": [
       "GAP: Q"
      ]
     },
     "execution_count": 6,
     "metadata": {},
     "output_type": "execute_result"
    }
   ],
   "source": [
    "Q = HomalgFieldOfRationalsInSingular( )"
   ]
  },
  {
   "cell_type": "code",
   "execution_count": 7,
   "metadata": {},
   "outputs": [
    {
     "data": {
      "text/plain": [
       "GAP: Q[x,y]"
      ]
     },
     "execution_count": 7,
     "metadata": {},
     "output_type": "execute_result"
    }
   ],
   "source": [
    "R = Q[\"x,y\"]"
   ]
  },
  {
   "cell_type": "code",
   "execution_count": 8,
   "metadata": {},
   "outputs": [
    {
     "data": {
      "text/plain": [
       "GAP: <A 2 x 1 matrix over an external ring>"
      ]
     },
     "execution_count": 8,
     "metadata": {},
     "output_type": "execute_result"
    }
   ],
   "source": [
    "K = HomalgMatrix( \"[ x, -x ]\", 2, 1, R )"
   ]
  },
  {
   "cell_type": "code",
   "execution_count": 9,
   "metadata": {},
   "outputs": [
    {
     "data": {
      "text/plain": [
       "GAP: <A 2 x 1 matrix over an external ring>"
      ]
     },
     "execution_count": 9,
     "metadata": {},
     "output_type": "execute_result"
    }
   ],
   "source": [
    "J = HomalgMatrix( \"[ x, y ]\", 2, 1, R )"
   ]
  },
  {
   "cell_type": "code",
   "execution_count": 10,
   "metadata": {},
   "outputs": [
    {
     "data": {
      "text/plain": [
       "GAP: <An unevaluated 4 x 1 matrix over an external ring>"
      ]
     },
     "execution_count": 10,
     "metadata": {},
     "output_type": "execute_result"
    }
   ],
   "source": [
    "I = KroneckerMat( K, J )"
   ]
  },
  {
   "cell_type": "code",
   "execution_count": 11,
   "metadata": {},
   "outputs": [
    {
     "data": {
      "text/plain": [
       "GAP: Rows( Q[x,y] )"
      ]
     },
     "execution_count": 11,
     "metadata": {},
     "output_type": "execute_result"
    }
   ],
   "source": [
    "P = CategoryOfRows( R )"
   ]
  },
  {
   "cell_type": "code",
   "execution_count": 12,
   "metadata": {},
   "outputs": [
    {
     "data": {
      "text/plain": [
       "GAP: LazyCategory( Rows( Q[x,y] ) )"
      ]
     },
     "execution_count": 12,
     "metadata": {},
     "output_type": "execute_result"
    }
   ],
   "source": [
    "P = LazyCategory( P, show_evaluation = true )"
   ]
  },
  {
   "cell_type": "code",
   "execution_count": 13,
   "metadata": {},
   "outputs": [
    {
     "data": {
      "text/plain": [
       "GAP: <An evaluated morphism in LazyCategory( Rows( Q[x,y] ) )>"
      ]
     },
     "execution_count": 13,
     "metadata": {},
     "output_type": "execute_result"
    }
   ],
   "source": [
    "I = I / P"
   ]
  },
  {
   "cell_type": "code",
   "execution_count": 14,
   "metadata": {},
   "outputs": [],
   "source": [
    "SetLabel( I, \"I\" ); SetLabel( Source( I ), \"R^i\" )"
   ]
  },
  {
   "cell_type": "code",
   "execution_count": 15,
   "metadata": {},
   "outputs": [
    {
     "data": {
      "text/plain": [
       "GAP: <An evaluated object in LazyCategory( Rows( Q[x,y] ) )>"
      ]
     },
     "execution_count": 15,
     "metadata": {},
     "output_type": "execute_result"
    }
   ],
   "source": [
    "R = Target( I )"
   ]
  },
  {
   "cell_type": "code",
   "execution_count": 16,
   "metadata": {},
   "outputs": [],
   "source": [
    "SetLabel( R, \"R\" )"
   ]
  },
  {
   "cell_type": "code",
   "execution_count": 17,
   "metadata": {},
   "outputs": [
    {
     "data": {
      "text/plain": [
       "GAP: <An evaluated morphism in LazyCategory( Rows( Q[x,y] ) )>"
      ]
     },
     "execution_count": 17,
     "metadata": {},
     "output_type": "execute_result"
    }
   ],
   "source": [
    "J = J / P"
   ]
  },
  {
   "cell_type": "code",
   "execution_count": 18,
   "metadata": {},
   "outputs": [],
   "source": [
    "SetLabel( J, \"J\" ); SetLabel( Source( J ), \"R^j\" )"
   ]
  },
  {
   "cell_type": "code",
   "execution_count": 19,
   "metadata": {},
   "outputs": [
    {
     "data": {
      "text/plain": [
       "GAP: <An evaluated morphism in LazyCategory( Rows( Q[x,y] ) )>"
      ]
     },
     "execution_count": 19,
     "metadata": {},
     "output_type": "execute_result"
    }
   ],
   "source": [
    "K = K / P"
   ]
  },
  {
   "cell_type": "code",
   "execution_count": 20,
   "metadata": {},
   "outputs": [
    {
     "data": {
      "text/plain": [
       "GAP: SliceCategoryOverTensorUnit( LazyCategory( Rows( Q[x,y] ) ) )"
      ]
     },
     "execution_count": 20,
     "metadata": {},
     "output_type": "execute_result"
    }
   ],
   "source": [
    "S = SliceCategoryOverTensorUnit( P )"
   ]
  },
  {
   "cell_type": "code",
   "execution_count": 21,
   "metadata": {},
   "outputs": [
    {
     "data": {
      "text/plain": [
       "GAP: PosetOfCategory( SliceCategoryOverTensorUnit( LazyCategory( Rows( Q[x,y] ) ) ) )"
      ]
     },
     "execution_count": 21,
     "metadata": {},
     "output_type": "execute_result"
    }
   ],
   "source": [
    "L = PosetOfCategory( S )"
   ]
  },
  {
   "cell_type": "code",
   "execution_count": 22,
   "metadata": {},
   "outputs": [
    {
     "data": {
      "text/plain": [
       "GAP: An object in the poset given by: An object in the slice category given by: <An evaluated morphism in LazyCategory( Rows( Q[x,y] ) )>"
      ]
     },
     "execution_count": 22,
     "metadata": {},
     "output_type": "execute_result"
    }
   ],
   "source": [
    "I = I / S / L"
   ]
  },
  {
   "cell_type": "code",
   "execution_count": 23,
   "metadata": {},
   "outputs": [
    {
     "data": {
      "text/plain": [
       "GAP: An object in the poset given by: An object in the slice category given by: <An evaluated morphism in LazyCategory( Rows( Q[x,y] ) )>"
      ]
     },
     "execution_count": 23,
     "metadata": {},
     "output_type": "execute_result"
    }
   ],
   "source": [
    "J = J / S / L"
   ]
  },
  {
   "cell_type": "code",
   "execution_count": 24,
   "metadata": {},
   "outputs": [
    {
     "data": {
      "text/plain": [
       "GAP: An object in the poset given by: An object in the slice category given by: <An evaluated morphism in LazyCategory( Rows( Q[x,y] ) )>"
      ]
     },
     "execution_count": 24,
     "metadata": {},
     "output_type": "execute_result"
    }
   ],
   "source": [
    "K = K / S / L"
   ]
  },
  {
   "cell_type": "code",
   "execution_count": 25,
   "metadata": {},
   "outputs": [
    {
     "data": {
      "text/plain": [
       "GAP: An object in the poset given by: An object in the slice category given by: <A morphism in LazyCategory( Rows( Q[x,y] ) )>"
      ]
     },
     "execution_count": 25,
     "metadata": {},
     "output_type": "execute_result"
    }
   ],
   "source": [
    "IqJ = InternalHom( J, I )"
   ]
  },
  {
   "cell_type": "code",
   "execution_count": 26,
   "metadata": {
    "scrolled": false
   },
   "outputs": [
    {
     "data": {
      "image/svg+xml": [
       "<?xml version=\"1.0\" encoding=\"UTF-8\" standalone=\"no\"?>\n",
       "<!DOCTYPE svg PUBLIC \"-//W3C//DTD SVG 1.1//EN\"\n",
       " \"http://www.w3.org/Graphics/SVG/1.1/DTD/svg11.dtd\">\n",
       "<!-- Generated by graphviz version 2.50.0 (20211204.2007)\n",
       " -->\n",
       "<!-- Title: hgn Pages: 1 -->\n",
       "<svg width=\"807pt\" height=\"909pt\"\n",
       " viewBox=\"0.00 0.00 806.50 909.00\" xmlns=\"http://www.w3.org/2000/svg\" xmlns:xlink=\"http://www.w3.org/1999/xlink\">\n",
       "<g id=\"graph0\" class=\"graph\" transform=\"scale(1 1) rotate(0) translate(4 905)\">\n",
       "<title>hgn</title>\n",
       "<polygon fill=\"white\" stroke=\"transparent\" points=\"-4,4 -4,-905 802.5,-905 802.5,4 -4,4\"/>\n",
       "<!-- 1 -->\n",
       "<g id=\"node1\" class=\"node\">\n",
       "<title>1</title>\n",
       "<polygon fill=\"none\" stroke=\"black\" points=\"173,-901 106,-901 106,-833 173,-833 173,-901\"/>\n",
       "<text text-anchor=\"middle\" x=\"139.5\" y=\"-885.8\" font-family=\"Times,serif\" font-size=\"14.00\">[1]</text>\n",
       "<text text-anchor=\"middle\" x=\"139.5\" y=\"-870.8\" font-family=\"Times,serif\" font-size=\"14.00\">primitive</text>\n",
       "<text text-anchor=\"middle\" x=\"139.5\" y=\"-855.8\" font-family=\"Times,serif\" font-size=\"14.00\">object</text>\n",
       "<text text-anchor=\"middle\" x=\"139.5\" y=\"-840.8\" font-family=\"Times,serif\" font-size=\"14.00\">&lt;R&gt;</text>\n",
       "</g>\n",
       "<!-- 2 -->\n",
       "<g id=\"node2\" class=\"node\">\n",
       "<title>2</title>\n",
       "<polygon fill=\"none\" stroke=\"black\" points=\"190.5,-774.5 88.5,-774.5 88.5,-721.5 190.5,-721.5 190.5,-774.5\"/>\n",
       "<text text-anchor=\"middle\" x=\"139.5\" y=\"-759.3\" font-family=\"Times,serif\" font-size=\"14.00\">[2]</text>\n",
       "<text text-anchor=\"middle\" x=\"139.5\" y=\"-744.3\" font-family=\"Times,serif\" font-size=\"14.00\">Internal</text>\n",
       "<text text-anchor=\"middle\" x=\"139.5\" y=\"-729.3\" font-family=\"Times,serif\" font-size=\"14.00\">HomOnObjects</text>\n",
       "</g>\n",
       "<!-- 1&#45;&gt;2 -->\n",
       "<g id=\"edge1\" class=\"edge\">\n",
       "<title>1&#45;&gt;2</title>\n",
       "<path fill=\"none\" stroke=\"black\" d=\"M133.34,-832.79C132.6,-817.85 132.55,-800.2 133.22,-784.96\"/>\n",
       "<polygon fill=\"black\" stroke=\"black\" points=\"136.72,-785.04 133.79,-774.86 129.73,-784.64 136.72,-785.04\"/>\n",
       "</g>\n",
       "<!-- 1&#45;&gt;2 -->\n",
       "<g id=\"edge2\" class=\"edge\">\n",
       "<title>1&#45;&gt;2</title>\n",
       "<path fill=\"none\" stroke=\"black\" d=\"M145.66,-832.79C146.4,-817.85 146.45,-800.2 145.78,-784.96\"/>\n",
       "<polygon fill=\"black\" stroke=\"black\" points=\"149.27,-784.64 145.21,-774.86 142.28,-785.04 149.27,-784.64\"/>\n",
       "</g>\n",
       "<!-- 3 -->\n",
       "<g id=\"node3\" class=\"node\">\n",
       "<title>3</title>\n",
       "<polygon fill=\"none\" stroke=\"black\" points=\"196,-655.5 43,-655.5 43,-617.5 196,-617.5 196,-655.5\"/>\n",
       "<text text-anchor=\"middle\" x=\"119.5\" y=\"-640.3\" font-family=\"Times,serif\" font-size=\"14.00\">[3]</text>\n",
       "<text text-anchor=\"middle\" x=\"119.5\" y=\"-625.3\" font-family=\"Times,serif\" font-size=\"14.00\">TensorProductOnObjects</text>\n",
       "</g>\n",
       "<!-- 1&#45;&gt;3 -->\n",
       "<g id=\"edge4\" class=\"edge\">\n",
       "<title>1&#45;&gt;3</title>\n",
       "<path fill=\"none\" stroke=\"black\" d=\"M105.95,-834.49C92.84,-819.93 79.34,-801.54 72.5,-782 62.52,-753.47 64.28,-743.08 72.5,-714 77.63,-695.86 88.39,-677.8 98.33,-663.78\"/>\n",
       "<polygon fill=\"black\" stroke=\"black\" points=\"101.24,-665.73 104.35,-655.6 95.6,-661.58 101.24,-665.73\"/>\n",
       "<text text-anchor=\"middle\" x=\"76\" y=\"-744.3\" font-family=\"Times,serif\" font-size=\"14.00\">2</text>\n",
       "</g>\n",
       "<!-- 4 -->\n",
       "<g id=\"node4\" class=\"node\">\n",
       "<title>4</title>\n",
       "<polygon fill=\"none\" stroke=\"black\" points=\"133,-551.5 0,-551.5 0,-498.5 133,-498.5 133,-551.5\"/>\n",
       "<text text-anchor=\"middle\" x=\"66.5\" y=\"-536.3\" font-family=\"Times,serif\" font-size=\"14.00\">[4]</text>\n",
       "<text text-anchor=\"middle\" x=\"66.5\" y=\"-521.3\" font-family=\"Times,serif\" font-size=\"14.00\">EvaluationMorphism</text>\n",
       "<text text-anchor=\"middle\" x=\"66.5\" y=\"-506.3\" font-family=\"Times,serif\" font-size=\"14.00\">WithGivenSource</text>\n",
       "</g>\n",
       "<!-- 1&#45;&gt;4 -->\n",
       "<g id=\"edge5\" class=\"edge\">\n",
       "<title>1&#45;&gt;4</title>\n",
       "<path fill=\"none\" stroke=\"black\" d=\"M105.79,-843.4C95.46,-835.32 84.68,-825.57 76.5,-815 46.53,-776.26 34.69,-673.22 33.5,-663 30.78,-639.6 29.12,-633.14 33.5,-610 36.66,-593.33 43.05,-575.73 49.37,-560.98\"/>\n",
       "<polygon fill=\"black\" stroke=\"black\" points=\"52.62,-562.29 53.48,-551.73 46.22,-559.45 52.62,-562.29\"/>\n",
       "<text text-anchor=\"middle\" x=\"42\" y=\"-684.8\" font-family=\"Times,serif\" font-size=\"14.00\">1</text>\n",
       "</g>\n",
       "<!-- 1&#45;&gt;4 -->\n",
       "<g id=\"edge6\" class=\"edge\">\n",
       "<title>1&#45;&gt;4</title>\n",
       "<path fill=\"none\" stroke=\"black\" d=\"M105.83,-849.43C81.58,-835.32 51.01,-812.49 38.5,-782 3.9,-697.69 0.3,-661.47 34.5,-577 36.76,-571.41 39.63,-565.76 42.71,-560.34\"/>\n",
       "<polygon fill=\"black\" stroke=\"black\" points=\"45.87,-561.89 48.04,-551.52 39.87,-558.27 45.87,-561.89\"/>\n",
       "<text text-anchor=\"middle\" x=\"16\" y=\"-684.8\" font-family=\"Times,serif\" font-size=\"14.00\">2</text>\n",
       "</g>\n",
       "<!-- 7 -->\n",
       "<g id=\"node7\" class=\"node\">\n",
       "<title>7</title>\n",
       "<polygon fill=\"none\" stroke=\"black\" points=\"282.5,-774.5 208.5,-774.5 208.5,-721.5 282.5,-721.5 282.5,-774.5\"/>\n",
       "<text text-anchor=\"middle\" x=\"245.5\" y=\"-759.3\" font-family=\"Times,serif\" font-size=\"14.00\">[7]</text>\n",
       "<text text-anchor=\"middle\" x=\"245.5\" y=\"-744.3\" font-family=\"Times,serif\" font-size=\"14.00\">Identity</text>\n",
       "<text text-anchor=\"middle\" x=\"245.5\" y=\"-729.3\" font-family=\"Times,serif\" font-size=\"14.00\">Morphism</text>\n",
       "</g>\n",
       "<!-- 1&#45;&gt;7 -->\n",
       "<g id=\"edge8\" class=\"edge\">\n",
       "<title>1&#45;&gt;7</title>\n",
       "<path fill=\"none\" stroke=\"black\" d=\"M169.59,-832.79C183.9,-816.99 200.96,-798.16 215.29,-782.35\"/>\n",
       "<polygon fill=\"black\" stroke=\"black\" points=\"217.95,-784.62 222.07,-774.86 212.77,-779.92 217.95,-784.62\"/>\n",
       "</g>\n",
       "<!-- 11 -->\n",
       "<g id=\"node11\" class=\"node\">\n",
       "<title>11</title>\n",
       "<polygon fill=\"none\" stroke=\"black\" points=\"494.5,-774.5 392.5,-774.5 392.5,-721.5 494.5,-721.5 494.5,-774.5\"/>\n",
       "<text text-anchor=\"middle\" x=\"443.5\" y=\"-759.3\" font-family=\"Times,serif\" font-size=\"14.00\">[11]</text>\n",
       "<text text-anchor=\"middle\" x=\"443.5\" y=\"-744.3\" font-family=\"Times,serif\" font-size=\"14.00\">Internal</text>\n",
       "<text text-anchor=\"middle\" x=\"443.5\" y=\"-729.3\" font-family=\"Times,serif\" font-size=\"14.00\">HomOnObjects</text>\n",
       "</g>\n",
       "<!-- 1&#45;&gt;11 -->\n",
       "<g id=\"edge13\" class=\"edge\">\n",
       "<title>1&#45;&gt;11</title>\n",
       "<path fill=\"none\" stroke=\"black\" d=\"M173.35,-856.36C221.11,-842.3 310.59,-814.31 383.5,-782 385.58,-781.08 387.67,-780.11 389.78,-779.11\"/>\n",
       "<polygon fill=\"black\" stroke=\"black\" points=\"391.62,-782.11 399.04,-774.54 388.52,-775.83 391.62,-782.11\"/>\n",
       "<text text-anchor=\"middle\" x=\"341\" y=\"-803.8\" font-family=\"Times,serif\" font-size=\"14.00\">2</text>\n",
       "</g>\n",
       "<!-- 2&#45;&gt;3 -->\n",
       "<g id=\"edge3\" class=\"edge\">\n",
       "<title>2&#45;&gt;3</title>\n",
       "<path fill=\"none\" stroke=\"black\" d=\"M134.81,-721.33C131.77,-704.68 127.81,-682.98 124.67,-665.83\"/>\n",
       "<polygon fill=\"black\" stroke=\"black\" points=\"128.09,-665.04 122.85,-655.83 121.2,-666.29 128.09,-665.04\"/>\n",
       "<text text-anchor=\"middle\" x=\"133\" y=\"-684.8\" font-family=\"Times,serif\" font-size=\"14.00\">1</text>\n",
       "</g>\n",
       "<!-- 9 -->\n",
       "<g id=\"node9\" class=\"node\">\n",
       "<title>9</title>\n",
       "<polygon fill=\"none\" stroke=\"black\" points=\"275,-559 180,-559 180,-491 275,-491 275,-559\"/>\n",
       "<text text-anchor=\"middle\" x=\"227.5\" y=\"-543.8\" font-family=\"Times,serif\" font-size=\"14.00\">[9]</text>\n",
       "<text text-anchor=\"middle\" x=\"227.5\" y=\"-528.8\" font-family=\"Times,serif\" font-size=\"14.00\">RightUnitor</text>\n",
       "<text text-anchor=\"middle\" x=\"227.5\" y=\"-513.8\" font-family=\"Times,serif\" font-size=\"14.00\">WithGiven</text>\n",
       "<text text-anchor=\"middle\" x=\"227.5\" y=\"-498.8\" font-family=\"Times,serif\" font-size=\"14.00\">TensorProduct</text>\n",
       "</g>\n",
       "<!-- 2&#45;&gt;9 -->\n",
       "<g id=\"edge9\" class=\"edge\">\n",
       "<title>2&#45;&gt;9</title>\n",
       "<path fill=\"none\" stroke=\"black\" d=\"M165.36,-721.31C179.48,-705.75 195.98,-684.75 205.5,-663 218.48,-633.35 223.89,-597.1 226.11,-569.33\"/>\n",
       "<polygon fill=\"black\" stroke=\"black\" points=\"229.62,-569.35 226.81,-559.13 222.63,-568.87 229.62,-569.35\"/>\n",
       "<text text-anchor=\"middle\" x=\"224\" y=\"-632.8\" font-family=\"Times,serif\" font-size=\"14.00\">1</text>\n",
       "</g>\n",
       "<!-- 15 -->\n",
       "<g id=\"node15\" class=\"node\">\n",
       "<title>15</title>\n",
       "<polygon fill=\"none\" stroke=\"black\" points=\"423.5,-663 257.5,-663 257.5,-610 423.5,-610 423.5,-663\"/>\n",
       "<text text-anchor=\"middle\" x=\"340.5\" y=\"-647.8\" font-family=\"Times,serif\" font-size=\"14.00\">[15]</text>\n",
       "<text text-anchor=\"middle\" x=\"340.5\" y=\"-632.8\" font-family=\"Times,serif\" font-size=\"14.00\">InternalHomOnMorphisms</text>\n",
       "<text text-anchor=\"middle\" x=\"340.5\" y=\"-617.8\" font-family=\"Times,serif\" font-size=\"14.00\">WithGivenInternalHoms</text>\n",
       "</g>\n",
       "<!-- 2&#45;&gt;15 -->\n",
       "<g id=\"edge17\" class=\"edge\">\n",
       "<title>2&#45;&gt;15</title>\n",
       "<path fill=\"none\" stroke=\"black\" d=\"M184.37,-721.46C189.42,-718.84 194.54,-716.3 199.5,-714 219.79,-704.59 226.47,-705.95 246.5,-696 262.62,-687.99 279.52,-678.02 294.47,-668.58\"/>\n",
       "<polygon fill=\"black\" stroke=\"black\" points=\"296.49,-671.45 303.03,-663.11 292.72,-665.55 296.49,-671.45\"/>\n",
       "<text text-anchor=\"middle\" x=\"276\" y=\"-684.8\" font-family=\"Times,serif\" font-size=\"14.00\">1</text>\n",
       "</g>\n",
       "<!-- 3&#45;&gt;4 -->\n",
       "<g id=\"edge7\" class=\"edge\">\n",
       "<title>3&#45;&gt;4</title>\n",
       "<path fill=\"none\" stroke=\"black\" d=\"M110.75,-617.42C103.35,-602.14 92.55,-579.81 83.46,-561.05\"/>\n",
       "<polygon fill=\"black\" stroke=\"black\" points=\"86.54,-559.37 79.03,-551.89 80.24,-562.42 86.54,-559.37\"/>\n",
       "<text text-anchor=\"middle\" x=\"101\" y=\"-580.8\" font-family=\"Times,serif\" font-size=\"14.00\">3</text>\n",
       "</g>\n",
       "<!-- 3&#45;&gt;9 -->\n",
       "<g id=\"edge10\" class=\"edge\">\n",
       "<title>3&#45;&gt;9</title>\n",
       "<path fill=\"none\" stroke=\"black\" d=\"M137.33,-617.42C150.96,-603.6 170.28,-584.01 187.54,-566.51\"/>\n",
       "<polygon fill=\"black\" stroke=\"black\" points=\"190.26,-568.74 194.79,-559.16 185.28,-563.82 190.26,-568.74\"/>\n",
       "<text text-anchor=\"middle\" x=\"180\" y=\"-580.8\" font-family=\"Times,serif\" font-size=\"14.00\">2</text>\n",
       "</g>\n",
       "<!-- 10 -->\n",
       "<g id=\"node10\" class=\"node\">\n",
       "<title>10</title>\n",
       "<polygon fill=\"none\" stroke=\"black\" points=\"177.5,-454 79.5,-454 79.5,-401 177.5,-401 177.5,-454\"/>\n",
       "<text text-anchor=\"middle\" x=\"128.5\" y=\"-438.8\" font-family=\"Times,serif\" font-size=\"14.00\">[10]</text>\n",
       "<text text-anchor=\"middle\" x=\"128.5\" y=\"-423.8\" font-family=\"Times,serif\" font-size=\"14.00\">Inverse</text>\n",
       "<text text-anchor=\"middle\" x=\"128.5\" y=\"-408.8\" font-family=\"Times,serif\" font-size=\"14.00\">ForMorphisms</text>\n",
       "</g>\n",
       "<!-- 4&#45;&gt;10 -->\n",
       "<g id=\"edge11\" class=\"edge\">\n",
       "<title>4&#45;&gt;10</title>\n",
       "<path fill=\"none\" stroke=\"black\" d=\"M83.11,-498.41C90.2,-487.49 98.58,-474.58 106.2,-462.85\"/>\n",
       "<polygon fill=\"black\" stroke=\"black\" points=\"109.33,-464.46 111.84,-454.16 103.46,-460.64 109.33,-464.46\"/>\n",
       "</g>\n",
       "<!-- 5 -->\n",
       "<g id=\"node5\" class=\"node\">\n",
       "<title>5</title>\n",
       "<polygon fill=\"none\" stroke=\"black\" points=\"781,-901 714,-901 714,-833 781,-833 781,-901\"/>\n",
       "<text text-anchor=\"middle\" x=\"747.5\" y=\"-885.8\" font-family=\"Times,serif\" font-size=\"14.00\">[5]</text>\n",
       "<text text-anchor=\"middle\" x=\"747.5\" y=\"-870.8\" font-family=\"Times,serif\" font-size=\"14.00\">primitive</text>\n",
       "<text text-anchor=\"middle\" x=\"747.5\" y=\"-855.8\" font-family=\"Times,serif\" font-size=\"14.00\">object</text>\n",
       "<text text-anchor=\"middle\" x=\"747.5\" y=\"-840.8\" font-family=\"Times,serif\" font-size=\"14.00\">&lt;R^i&gt;</text>\n",
       "</g>\n",
       "<!-- 14 -->\n",
       "<g id=\"node14\" class=\"node\">\n",
       "<title>14</title>\n",
       "<polygon fill=\"none\" stroke=\"black\" points=\"798.5,-774.5 696.5,-774.5 696.5,-721.5 798.5,-721.5 798.5,-774.5\"/>\n",
       "<text text-anchor=\"middle\" x=\"747.5\" y=\"-759.3\" font-family=\"Times,serif\" font-size=\"14.00\">[14]</text>\n",
       "<text text-anchor=\"middle\" x=\"747.5\" y=\"-744.3\" font-family=\"Times,serif\" font-size=\"14.00\">Internal</text>\n",
       "<text text-anchor=\"middle\" x=\"747.5\" y=\"-729.3\" font-family=\"Times,serif\" font-size=\"14.00\">HomOnObjects</text>\n",
       "</g>\n",
       "<!-- 5&#45;&gt;14 -->\n",
       "<g id=\"edge16\" class=\"edge\">\n",
       "<title>5&#45;&gt;14</title>\n",
       "<path fill=\"none\" stroke=\"black\" d=\"M747.5,-832.79C747.5,-817.85 747.5,-800.2 747.5,-784.96\"/>\n",
       "<polygon fill=\"black\" stroke=\"black\" points=\"751,-784.86 747.5,-774.86 744,-784.86 751,-784.86\"/>\n",
       "<text text-anchor=\"middle\" x=\"751\" y=\"-803.8\" font-family=\"Times,serif\" font-size=\"14.00\">2</text>\n",
       "</g>\n",
       "<!-- 6 -->\n",
       "<g id=\"node6\" class=\"node\">\n",
       "<title>6</title>\n",
       "<polygon fill=\"none\" stroke=\"black\" points=\"675,-901 608,-901 608,-833 675,-833 675,-901\"/>\n",
       "<text text-anchor=\"middle\" x=\"641.5\" y=\"-885.8\" font-family=\"Times,serif\" font-size=\"14.00\">[6]</text>\n",
       "<text text-anchor=\"middle\" x=\"641.5\" y=\"-870.8\" font-family=\"Times,serif\" font-size=\"14.00\">primitive</text>\n",
       "<text text-anchor=\"middle\" x=\"641.5\" y=\"-855.8\" font-family=\"Times,serif\" font-size=\"14.00\">object</text>\n",
       "<text text-anchor=\"middle\" x=\"641.5\" y=\"-840.8\" font-family=\"Times,serif\" font-size=\"14.00\">&lt;R^j&gt;</text>\n",
       "</g>\n",
       "<!-- 6&#45;&gt;11 -->\n",
       "<g id=\"edge12\" class=\"edge\">\n",
       "<title>6&#45;&gt;11</title>\n",
       "<path fill=\"none\" stroke=\"black\" d=\"M607.91,-846.15C577.19,-828 531.27,-800.86 495.76,-779.88\"/>\n",
       "<polygon fill=\"black\" stroke=\"black\" points=\"497.36,-776.76 486.97,-774.69 493.8,-782.79 497.36,-776.76\"/>\n",
       "<text text-anchor=\"middle\" x=\"557\" y=\"-803.8\" font-family=\"Times,serif\" font-size=\"14.00\">1</text>\n",
       "</g>\n",
       "<!-- 13 -->\n",
       "<g id=\"node13\" class=\"node\">\n",
       "<title>13</title>\n",
       "<polygon fill=\"none\" stroke=\"black\" points=\"678.5,-774.5 604.5,-774.5 604.5,-721.5 678.5,-721.5 678.5,-774.5\"/>\n",
       "<text text-anchor=\"middle\" x=\"641.5\" y=\"-759.3\" font-family=\"Times,serif\" font-size=\"14.00\">[13]</text>\n",
       "<text text-anchor=\"middle\" x=\"641.5\" y=\"-744.3\" font-family=\"Times,serif\" font-size=\"14.00\">Identity</text>\n",
       "<text text-anchor=\"middle\" x=\"641.5\" y=\"-729.3\" font-family=\"Times,serif\" font-size=\"14.00\">Morphism</text>\n",
       "</g>\n",
       "<!-- 6&#45;&gt;13 -->\n",
       "<g id=\"edge14\" class=\"edge\">\n",
       "<title>6&#45;&gt;13</title>\n",
       "<path fill=\"none\" stroke=\"black\" d=\"M641.5,-832.79C641.5,-817.85 641.5,-800.2 641.5,-784.96\"/>\n",
       "<polygon fill=\"black\" stroke=\"black\" points=\"645,-784.86 641.5,-774.86 638,-784.86 645,-784.86\"/>\n",
       "</g>\n",
       "<!-- 6&#45;&gt;14 -->\n",
       "<g id=\"edge15\" class=\"edge\">\n",
       "<title>6&#45;&gt;14</title>\n",
       "<path fill=\"none\" stroke=\"black\" d=\"M671.59,-832.79C685.9,-816.99 702.96,-798.16 717.29,-782.35\"/>\n",
       "<polygon fill=\"black\" stroke=\"black\" points=\"719.95,-784.62 724.07,-774.86 714.77,-779.92 719.95,-784.62\"/>\n",
       "<text text-anchor=\"middle\" x=\"704\" y=\"-803.8\" font-family=\"Times,serif\" font-size=\"14.00\">1</text>\n",
       "</g>\n",
       "<!-- 7&#45;&gt;15 -->\n",
       "<g id=\"edge19\" class=\"edge\">\n",
       "<title>7&#45;&gt;15</title>\n",
       "<path fill=\"none\" stroke=\"black\" d=\"M267.77,-721.33C280.88,-706.23 297.58,-686.97 311.68,-670.72\"/>\n",
       "<polygon fill=\"black\" stroke=\"black\" points=\"314.46,-672.86 318.37,-663.01 309.17,-668.27 314.46,-672.86\"/>\n",
       "<text text-anchor=\"middle\" x=\"305\" y=\"-684.8\" font-family=\"Times,serif\" font-size=\"14.00\">3</text>\n",
       "</g>\n",
       "<!-- 8 -->\n",
       "<g id=\"node8\" class=\"node\">\n",
       "<title>8</title>\n",
       "<polygon fill=\"none\" stroke=\"black\" points=\"374,-782 301,-782 301,-714 374,-714 374,-782\"/>\n",
       "<text text-anchor=\"middle\" x=\"337.5\" y=\"-766.8\" font-family=\"Times,serif\" font-size=\"14.00\">[8]</text>\n",
       "<text text-anchor=\"middle\" x=\"337.5\" y=\"-751.8\" font-family=\"Times,serif\" font-size=\"14.00\">primitive</text>\n",
       "<text text-anchor=\"middle\" x=\"337.5\" y=\"-736.8\" font-family=\"Times,serif\" font-size=\"14.00\">morphism</text>\n",
       "<text text-anchor=\"middle\" x=\"337.5\" y=\"-721.8\" font-family=\"Times,serif\" font-size=\"14.00\">&lt;J&gt;</text>\n",
       "</g>\n",
       "<!-- 8&#45;&gt;15 -->\n",
       "<g id=\"edge18\" class=\"edge\">\n",
       "<title>8&#45;&gt;15</title>\n",
       "<path fill=\"none\" stroke=\"black\" d=\"M338.41,-713.85C338.76,-701.03 339.16,-686.34 339.52,-673.29\"/>\n",
       "<polygon fill=\"black\" stroke=\"black\" points=\"343.02,-673.33 339.79,-663.24 336.02,-673.14 343.02,-673.33\"/>\n",
       "<text text-anchor=\"middle\" x=\"342\" y=\"-684.8\" font-family=\"Times,serif\" font-size=\"14.00\">2</text>\n",
       "</g>\n",
       "<!-- 16 -->\n",
       "<g id=\"node16\" class=\"node\">\n",
       "<title>16</title>\n",
       "<polygon fill=\"none\" stroke=\"black\" points=\"261.5,-350 193.5,-350 193.5,-297 261.5,-297 261.5,-350\"/>\n",
       "<text text-anchor=\"middle\" x=\"227.5\" y=\"-334.8\" font-family=\"Times,serif\" font-size=\"14.00\">[16]</text>\n",
       "<text text-anchor=\"middle\" x=\"227.5\" y=\"-319.8\" font-family=\"Times,serif\" font-size=\"14.00\">Pre</text>\n",
       "<text text-anchor=\"middle\" x=\"227.5\" y=\"-304.8\" font-family=\"Times,serif\" font-size=\"14.00\">Compose</text>\n",
       "</g>\n",
       "<!-- 9&#45;&gt;16 -->\n",
       "<g id=\"edge22\" class=\"edge\">\n",
       "<title>9&#45;&gt;16</title>\n",
       "<path fill=\"none\" stroke=\"black\" d=\"M227.5,-490.61C227.5,-454.57 227.5,-397.37 227.5,-360.39\"/>\n",
       "<polygon fill=\"black\" stroke=\"black\" points=\"231,-360.07 227.5,-350.07 224,-360.07 231,-360.07\"/>\n",
       "<text text-anchor=\"middle\" x=\"231\" y=\"-423.8\" font-family=\"Times,serif\" font-size=\"14.00\">2</text>\n",
       "</g>\n",
       "<!-- 10&#45;&gt;16 -->\n",
       "<g id=\"edge21\" class=\"edge\">\n",
       "<title>10&#45;&gt;16</title>\n",
       "<path fill=\"none\" stroke=\"black\" d=\"M153.48,-400.76C166.14,-387.71 181.67,-371.72 195.23,-357.75\"/>\n",
       "<polygon fill=\"black\" stroke=\"black\" points=\"198.07,-359.84 202.53,-350.23 193.05,-354.97 198.07,-359.84\"/>\n",
       "<text text-anchor=\"middle\" x=\"187\" y=\"-371.8\" font-family=\"Times,serif\" font-size=\"14.00\">1</text>\n",
       "</g>\n",
       "<!-- 11&#45;&gt;15 -->\n",
       "<g id=\"edge20\" class=\"edge\">\n",
       "<title>11&#45;&gt;15</title>\n",
       "<path fill=\"none\" stroke=\"black\" d=\"M419.35,-721.33C405.15,-706.23 387.03,-686.97 371.74,-670.72\"/>\n",
       "<polygon fill=\"black\" stroke=\"black\" points=\"373.9,-667.9 364.5,-663.01 368.8,-672.69 373.9,-667.9\"/>\n",
       "<text text-anchor=\"middle\" x=\"398\" y=\"-684.8\" font-family=\"Times,serif\" font-size=\"14.00\">4</text>\n",
       "</g>\n",
       "<!-- 18 -->\n",
       "<g id=\"node18\" class=\"node\">\n",
       "<title>18</title>\n",
       "<polygon fill=\"none\" stroke=\"black\" points=\"632.5,-663 466.5,-663 466.5,-610 632.5,-610 632.5,-663\"/>\n",
       "<text text-anchor=\"middle\" x=\"549.5\" y=\"-647.8\" font-family=\"Times,serif\" font-size=\"14.00\">[18]</text>\n",
       "<text text-anchor=\"middle\" x=\"549.5\" y=\"-632.8\" font-family=\"Times,serif\" font-size=\"14.00\">InternalHomOnMorphisms</text>\n",
       "<text text-anchor=\"middle\" x=\"549.5\" y=\"-617.8\" font-family=\"Times,serif\" font-size=\"14.00\">WithGivenInternalHoms</text>\n",
       "</g>\n",
       "<!-- 11&#45;&gt;18 -->\n",
       "<g id=\"edge28\" class=\"edge\">\n",
       "<title>11&#45;&gt;18</title>\n",
       "<path fill=\"none\" stroke=\"black\" d=\"M468.35,-721.33C483.1,-706.09 501.96,-686.61 517.77,-670.27\"/>\n",
       "<polygon fill=\"black\" stroke=\"black\" points=\"520.36,-672.63 524.8,-663.01 515.33,-667.76 520.36,-672.63\"/>\n",
       "<text text-anchor=\"middle\" x=\"509\" y=\"-684.8\" font-family=\"Times,serif\" font-size=\"14.00\">4</text>\n",
       "</g>\n",
       "<!-- 12 -->\n",
       "<g id=\"node12\" class=\"node\">\n",
       "<title>12</title>\n",
       "<polygon fill=\"none\" stroke=\"black\" points=\"586,-782 513,-782 513,-714 586,-714 586,-782\"/>\n",
       "<text text-anchor=\"middle\" x=\"549.5\" y=\"-766.8\" font-family=\"Times,serif\" font-size=\"14.00\">[12]</text>\n",
       "<text text-anchor=\"middle\" x=\"549.5\" y=\"-751.8\" font-family=\"Times,serif\" font-size=\"14.00\">primitive</text>\n",
       "<text text-anchor=\"middle\" x=\"549.5\" y=\"-736.8\" font-family=\"Times,serif\" font-size=\"14.00\">morphism</text>\n",
       "<text text-anchor=\"middle\" x=\"549.5\" y=\"-721.8\" font-family=\"Times,serif\" font-size=\"14.00\">&lt;I&gt;</text>\n",
       "</g>\n",
       "<!-- 12&#45;&gt;18 -->\n",
       "<g id=\"edge27\" class=\"edge\">\n",
       "<title>12&#45;&gt;18</title>\n",
       "<path fill=\"none\" stroke=\"black\" d=\"M549.5,-713.85C549.5,-701.03 549.5,-686.34 549.5,-673.29\"/>\n",
       "<polygon fill=\"black\" stroke=\"black\" points=\"553,-673.24 549.5,-663.24 546,-673.24 553,-673.24\"/>\n",
       "<text text-anchor=\"middle\" x=\"553\" y=\"-684.8\" font-family=\"Times,serif\" font-size=\"14.00\">3</text>\n",
       "</g>\n",
       "<!-- 13&#45;&gt;18 -->\n",
       "<g id=\"edge26\" class=\"edge\">\n",
       "<title>13&#45;&gt;18</title>\n",
       "<path fill=\"none\" stroke=\"black\" d=\"M619.93,-721.33C607.24,-706.23 591.06,-686.97 577.41,-670.72\"/>\n",
       "<polygon fill=\"black\" stroke=\"black\" points=\"580.05,-668.42 570.93,-663.01 574.69,-672.92 580.05,-668.42\"/>\n",
       "<text text-anchor=\"middle\" x=\"601\" y=\"-684.8\" font-family=\"Times,serif\" font-size=\"14.00\">2</text>\n",
       "</g>\n",
       "<!-- 14&#45;&gt;18 -->\n",
       "<g id=\"edge25\" class=\"edge\">\n",
       "<title>14&#45;&gt;18</title>\n",
       "<path fill=\"none\" stroke=\"black\" d=\"M701.33,-721.47C672.41,-705.48 635,-684.78 604.55,-667.94\"/>\n",
       "<polygon fill=\"black\" stroke=\"black\" points=\"606.19,-664.85 595.75,-663.08 602.8,-670.98 606.19,-664.85\"/>\n",
       "<text text-anchor=\"middle\" x=\"657\" y=\"-684.8\" font-family=\"Times,serif\" font-size=\"14.00\">1</text>\n",
       "</g>\n",
       "<!-- 17 -->\n",
       "<g id=\"node17\" class=\"node\">\n",
       "<title>17</title>\n",
       "<polygon fill=\"none\" stroke=\"black\" points=\"374.5,-246 306.5,-246 306.5,-193 374.5,-193 374.5,-246\"/>\n",
       "<text text-anchor=\"middle\" x=\"340.5\" y=\"-230.8\" font-family=\"Times,serif\" font-size=\"14.00\">[17]</text>\n",
       "<text text-anchor=\"middle\" x=\"340.5\" y=\"-215.8\" font-family=\"Times,serif\" font-size=\"14.00\">Pre</text>\n",
       "<text text-anchor=\"middle\" x=\"340.5\" y=\"-200.8\" font-family=\"Times,serif\" font-size=\"14.00\">Compose</text>\n",
       "</g>\n",
       "<!-- 15&#45;&gt;17 -->\n",
       "<g id=\"edge24\" class=\"edge\">\n",
       "<title>15&#45;&gt;17</title>\n",
       "<path fill=\"none\" stroke=\"black\" d=\"M340.5,-609.84C340.5,-587.64 340.5,-554.71 340.5,-526 340.5,-526 340.5,-526 340.5,-322.5 340.5,-300.43 340.5,-275.68 340.5,-256.09\"/>\n",
       "<polygon fill=\"black\" stroke=\"black\" points=\"344,-256.07 340.5,-246.07 337,-256.07 344,-256.07\"/>\n",
       "<text text-anchor=\"middle\" x=\"344\" y=\"-423.8\" font-family=\"Times,serif\" font-size=\"14.00\">2</text>\n",
       "</g>\n",
       "<!-- 16&#45;&gt;17 -->\n",
       "<g id=\"edge23\" class=\"edge\">\n",
       "<title>16&#45;&gt;17</title>\n",
       "<path fill=\"none\" stroke=\"black\" d=\"M256.01,-296.76C270.74,-283.47 288.85,-267.12 304.52,-252.98\"/>\n",
       "<polygon fill=\"black\" stroke=\"black\" points=\"306.92,-255.53 311.99,-246.23 302.23,-250.33 306.92,-255.53\"/>\n",
       "<text text-anchor=\"middle\" x=\"294\" y=\"-267.8\" font-family=\"Times,serif\" font-size=\"14.00\">1</text>\n",
       "</g>\n",
       "<!-- 19 -->\n",
       "<g id=\"node19\" class=\"node\">\n",
       "<title>19</title>\n",
       "<polygon fill=\"none\" stroke=\"black\" points=\"521,-142 366,-142 366,-104 521,-104 521,-142\"/>\n",
       "<text text-anchor=\"middle\" x=\"443.5\" y=\"-126.8\" font-family=\"Times,serif\" font-size=\"14.00\">[19]</text>\n",
       "<text text-anchor=\"middle\" x=\"443.5\" y=\"-111.8\" font-family=\"Times,serif\" font-size=\"14.00\">BiasedWeakFiberProduct</text>\n",
       "</g>\n",
       "<!-- 17&#45;&gt;19 -->\n",
       "<g id=\"edge29\" class=\"edge\">\n",
       "<title>17&#45;&gt;19</title>\n",
       "<path fill=\"none\" stroke=\"black\" d=\"M368.37,-192.93C383.29,-179.24 401.58,-162.46 416.38,-148.88\"/>\n",
       "<polygon fill=\"black\" stroke=\"black\" points=\"418.76,-151.45 423.77,-142.11 414.03,-146.29 418.76,-151.45\"/>\n",
       "<text text-anchor=\"middle\" x=\"407\" y=\"-163.8\" font-family=\"Times,serif\" font-size=\"14.00\">1</text>\n",
       "</g>\n",
       "<!-- 20 -->\n",
       "<g id=\"node20\" class=\"node\">\n",
       "<title>20</title>\n",
       "<polygon fill=\"none\" stroke=\"black\" points=\"555.5,-53 331.5,-53 331.5,0 555.5,0 555.5,-53\"/>\n",
       "<text text-anchor=\"middle\" x=\"443.5\" y=\"-37.8\" font-family=\"Times,serif\" font-size=\"14.00\">[20]</text>\n",
       "<text text-anchor=\"middle\" x=\"443.5\" y=\"-22.8\" font-family=\"Times,serif\" font-size=\"14.00\">ProjectionOfBiasedWeakFiberProduct</text>\n",
       "<text text-anchor=\"middle\" x=\"443.5\" y=\"-7.8\" font-family=\"Times,serif\" font-size=\"14.00\">WithGivenBiasedWeakFiberProduct</text>\n",
       "</g>\n",
       "<!-- 17&#45;&gt;20 -->\n",
       "<g id=\"edge31\" class=\"edge\">\n",
       "<title>17&#45;&gt;20</title>\n",
       "<path fill=\"none\" stroke=\"black\" d=\"M337.28,-192.81C335.45,-168.5 335.9,-131.72 350.5,-104 359.79,-86.36 375.07,-71.24 390.58,-59.22\"/>\n",
       "<polygon fill=\"black\" stroke=\"black\" points=\"392.73,-61.98 398.68,-53.22 388.57,-56.36 392.73,-61.98\"/>\n",
       "<text text-anchor=\"middle\" x=\"354\" y=\"-119.3\" font-family=\"Times,serif\" font-size=\"14.00\">1</text>\n",
       "</g>\n",
       "<!-- 18&#45;&gt;19 -->\n",
       "<g id=\"edge30\" class=\"edge\">\n",
       "<title>18&#45;&gt;19</title>\n",
       "<path fill=\"none\" stroke=\"black\" d=\"M523.44,-609.67C505.35,-588.93 484.5,-558.06 484.5,-526 484.5,-526 484.5,-526 484.5,-218.5 484.5,-194.29 473.03,-169.25 462.22,-151.04\"/>\n",
       "<polygon fill=\"black\" stroke=\"black\" points=\"464.96,-148.81 456.7,-142.17 459.02,-152.51 464.96,-148.81\"/>\n",
       "<text text-anchor=\"middle\" x=\"488\" y=\"-371.8\" font-family=\"Times,serif\" font-size=\"14.00\">2</text>\n",
       "</g>\n",
       "<!-- 18&#45;&gt;20 -->\n",
       "<g id=\"edge32\" class=\"edge\">\n",
       "<title>18&#45;&gt;20</title>\n",
       "<path fill=\"none\" stroke=\"black\" d=\"M549.5,-609.84C549.5,-587.64 549.5,-554.71 549.5,-526 549.5,-526 549.5,-526 549.5,-122 549.5,-95.22 530.42,-74.15 508.44,-58.77\"/>\n",
       "<polygon fill=\"black\" stroke=\"black\" points=\"510.19,-55.73 499.91,-53.15 506.34,-61.58 510.19,-55.73\"/>\n",
       "<text text-anchor=\"middle\" x=\"553\" y=\"-319.8\" font-family=\"Times,serif\" font-size=\"14.00\">2</text>\n",
       "</g>\n",
       "<!-- 19&#45;&gt;20 -->\n",
       "<g id=\"edge33\" class=\"edge\">\n",
       "<title>19&#45;&gt;20</title>\n",
       "<path fill=\"none\" stroke=\"black\" d=\"M443.5,-103.78C443.5,-92.33 443.5,-77.16 443.5,-63.36\"/>\n",
       "<polygon fill=\"black\" stroke=\"black\" points=\"447,-63.17 443.5,-53.17 440,-63.17 447,-63.17\"/>\n",
       "<text text-anchor=\"middle\" x=\"447\" y=\"-74.8\" font-family=\"Times,serif\" font-size=\"14.00\">3</text>\n",
       "</g>\n",
       "</g>\n",
       "</svg>\n"
      ]
     },
     "metadata": {},
     "output_type": "display_data"
    }
   ],
   "source": [
    "Visualize( UnderlyingMorphism( UnderlyingCell( IqJ ) ) )"
   ]
  },
  {
   "cell_type": "code",
   "execution_count": 27,
   "metadata": {},
   "outputs": [
    {
     "name": "stdout",
     "output_type": "stream",
     "text": [
      "1.      -> evaluating in Rows( Q[x,y] ).........................: ProjectionOfBiasedWeakFiberProductWithGivenBiasedWeakFiberProduct\n",
      "2.       -> evaluating in Rows( Q[x,y] ).........................: PreCompose\n",
      "3.       -> evaluating in Rows( Q[x,y] ).........................: PreCompose\n",
      "4.        -> evaluating in Rows( Q[x,y] ).........................: InverseForMorphisms\n",
      "5.        -> evaluating in Rows( Q[x,y] ).........................: EvaluationMorphismWithGivenSource\n",
      "6.        -> evaluating in Rows( Q[x,y] ).........................: TensorProductOnObjects\n",
      "7.        -> evaluating in Rows( Q[x,y] ).........................: InternalHomOnObjects\n",
      "7.        <- evaluated in Rows( Q[x,y] ).........................: InternalHomOnObjects\n",
      "6.        <- evaluated in Rows( Q[x,y] ).........................: TensorProductOnObjects\n",
      "5.        <- evaluated in Rows( Q[x,y] ).........................: EvaluationMorphismWithGivenSource\n",
      "4.        <- evaluated in Rows( Q[x,y] ).........................: InverseForMorphisms\n",
      "8.         -> evaluating in Rows( Q[x,y] ).........................: RightUnitorWithGivenTensorProduct\n",
      "8.         <- evaluated in Rows( Q[x,y] ).........................: RightUnitorWithGivenTensorProduct\n",
      "3.       <- evaluated in Rows( Q[x,y] ).........................: PreCompose\n",
      "9.         -> evaluating in Rows( Q[x,y] ).........................: InternalHomOnMorphismsWithGivenInternalHoms\n",
      "10.        -> evaluating in Rows( Q[x,y] ).........................: IdentityMorphism\n",
      "10.        <- evaluated in Rows( Q[x,y] ).........................: IdentityMorphism\n",
      "11.        -> evaluating in Rows( Q[x,y] ).........................: InternalHomOnObjects\n",
      "11.        <- evaluated in Rows( Q[x,y] ).........................: InternalHomOnObjects\n",
      "9.         <- evaluated in Rows( Q[x,y] ).........................: InternalHomOnMorphismsWithGivenInternalHoms\n",
      "2.       <- evaluated in Rows( Q[x,y] ).........................: PreCompose\n",
      "12.        -> evaluating in Rows( Q[x,y] ).........................: InternalHomOnMorphismsWithGivenInternalHoms\n",
      "13.        -> evaluating in Rows( Q[x,y] ).........................: InternalHomOnObjects\n",
      "13.        <- evaluated in Rows( Q[x,y] ).........................: InternalHomOnObjects\n",
      "14.        -> evaluating in Rows( Q[x,y] ).........................: IdentityMorphism\n",
      "14.        <- evaluated in Rows( Q[x,y] ).........................: IdentityMorphism\n",
      "12.        <- evaluated in Rows( Q[x,y] ).........................: InternalHomOnMorphismsWithGivenInternalHoms\n",
      "15.        -> evaluating in Rows( Q[x,y] ).........................: BiasedWeakFiberProduct\n",
      "15.        <- evaluated in Rows( Q[x,y] ).........................: BiasedWeakFiberProduct\n",
      "1.      <- evaluated in Rows( Q[x,y] ).........................: ProjectionOfBiasedWeakFiberProductWithGivenBiasedWeakFiberProduct\n"
     ]
    },
    {
     "data": {
      "text/plain": [
       "true"
      ]
     },
     "execution_count": 27,
     "metadata": {},
     "output_type": "execute_result"
    }
   ],
   "source": [
    "K == IqJ"
   ]
  }
 ],
 "metadata": {
  "@webio": {
   "lastCommId": null,
   "lastKernelId": null
  },
  "kernelspec": {
   "display_name": "Julia 1.9.4",
   "language": "julia",
   "name": "julia-1.9"
  },
  "language_info": {
   "file_extension": ".jl",
   "mimetype": "application/julia",
   "name": "julia",
   "version": "1.9.4"
  }
 },
 "nbformat": 4,
 "nbformat_minor": 2
}
